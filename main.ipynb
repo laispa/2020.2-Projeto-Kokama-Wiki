{
  "cells": [
    {
      "cell_type": "markdown",
      "metadata": {
        "id": "view-in-github",
        "colab_type": "text"
      },
      "source": [
        "<a href=\"https://colab.research.google.com/github/laispa/2020.2-Projeto-Kokama-Wiki/blob/main/main.ipynb\" target=\"_parent\"><img src=\"https://colab.research.google.com/assets/colab-badge.svg\" alt=\"Open In Colab\"/></a>"
      ]
    },
    {
      "cell_type": "code",
      "execution_count": 3,
      "metadata": {
        "id": "GO0dwdyQ-M_O"
      },
      "outputs": [],
      "source": [
        "# Instalação de Dependências\n",
        "# Para utilização do Colab, modifique o '%' por '!'\n",
        "# As abaixo comentadas são somente para instalar em ambiente local\n",
        "# %pip install -q -U tensorflow\n",
        "# %pip install -q -U keras\n",
        "# %pip install -q -U numpy\n",
        "# %pip install -q -U pandas\n",
        "# %pip install -q -U Jinja2\n",
        "# Uso da GPU precisa ser habilitado pelo comando a seguir\n",
        "# %python -m pip install tensorflow[and-cuda]\n",
        "%pip install -q -U tensorflow-addons\n",
        "%pip install -q -U tensorflow-datasets\n",
        "%pip install -q -U keras-utils\n",
        "%pip install -q -U matplotlib\n"
      ]
    },
    {
      "cell_type": "code",
      "execution_count": 4,
      "metadata": {
        "id": "oOBTtaKjCVkm"
      },
      "outputs": [],
      "source": [
        "import tensorflow_datasets as tfds\n",
        "import pandas as pd\n",
        "from numpy import mean\n",
        "import tensorflow as tf\n",
        "import keras\n",
        "import matplotlib.pyplot as plt\n",
        "import seaborn as sns\n",
        "\n"
      ]
    },
    {
      "cell_type": "code",
      "execution_count": 5,
      "metadata": {
        "id": "CNowqre2CWz0"
      },
      "outputs": [],
      "source": [
        "# Coletando dados\n",
        "tf.keras.backend.clear_session()\n",
        "(ds_train), info = tfds.load('plant_village', split='train', with_info=True)\n",
        "\n",
        "# a estrutura de uma imagem (244,244,3), representa a largura e altura em pixels,\n",
        "# e o 3 representa a quantidade de canais de cores pq é RGB"
      ]
    },
    {
      "cell_type": "code",
      "execution_count": 7,
      "metadata": {
        "id": "cP1IfA5RCcxp",
        "outputId": "c6d1a7d1-0302-4c61-bca8-11cda14f2dde",
        "colab": {
          "base_uri": "https://localhost:8080/"
        }
      },
      "outputs": [
        {
          "output_type": "stream",
          "name": "stdout",
          "text": [
            "Número de exemplos de treinamento: 30546\n",
            "Número de exemplos de validação: 10182\n"
          ]
        }
      ],
      "source": [
        "# Dividir os dados de treinamento em treinamento e validação\n",
        "# Embaralhando os dados para garantir que tanto a validação quanto o treinamento tenham todos os tipos de dados\n",
        "ds_train = ds_train.shuffle(buffer_size=1000, seed=42)\n",
        "\n",
        "# Calcular o tamanho do conjunto de validação como 25% dos dados de treinamento\n",
        "train_size = ds_train.cardinality().numpy()\n",
        "validation_size = train_size // 4  # 25% dos dados de treinamento\n",
        "\n",
        "# Dividindo os dados\n",
        "ds_validation = ds_train.take(validation_size)\n",
        "ds_train = ds_train.skip(validation_size)\n",
        "\n",
        "# Verificar o número de exemplos em cada conjunto de dados\n",
        "num_train_examples = ds_train.cardinality().numpy()\n",
        "num_validation_examples = ds_validation.cardinality().numpy()\n",
        "print(\"Número de exemplos de treinamento:\", num_train_examples)\n",
        "print(\"Número de exemplos de validação:\", num_validation_examples)"
      ]
    },
    {
      "cell_type": "code",
      "execution_count": 8,
      "metadata": {
        "id": "YUlqqzSGygiD"
      },
      "outputs": [],
      "source": [
        "df_validation = tfds.as_dataframe(ds_validation, info)\n",
        "df_train = tfds.as_dataframe(ds_train, info)"
      ]
    },
    {
      "cell_type": "code",
      "source": [
        "# Análise Exploratória de Dados\n",
        "# Estatísticas Descritivas\n",
        "print(\"\\nEstatísticas Descritivas:\")\n",
        "print(df_train.describe())\n",
        "\n",
        "\n"
      ],
      "metadata": {
        "id": "7aI8xj9Q630x"
      },
      "execution_count": null,
      "outputs": []
    },
    {
      "cell_type": "code",
      "source": [
        "# Visualização da Distribuição das Classes\n",
        "\n",
        "plt.figure(figsize=(10, 6))\n",
        "sns.countplot(x='label', data=df_train)\n",
        "plt.title('Distribuição das Labels')\n",
        "plt.xlabel('Classe')\n",
        "plt.ylabel('Número de Exemplos')\n",
        "plt.show()\n",
        "\n"
      ],
      "metadata": {
        "id": "e_D4MKxY61az"
      },
      "execution_count": null,
      "outputs": []
    },
    {
      "cell_type": "code",
      "source": [
        "# Visualização da Correlação entre Variáveis\n",
        "plt.figure(figsize=(10, 6))\n",
        "sns.heatmap(df_train.corr(), annot=True, cmap='coolwarm', fmt='.2f')\n",
        "plt.title('Matriz de Correlação')\n",
        "plt.show()"
      ],
      "metadata": {
        "id": "YGZtYgWv68Y-"
      },
      "execution_count": null,
      "outputs": []
    }
  ],
  "metadata": {
    "accelerator": "GPU",
    "colab": {
      "gpuType": "T4",
      "provenance": [],
      "include_colab_link": true
    },
    "kernelspec": {
      "display_name": "Python 3",
      "language": "python",
      "name": "python3"
    },
    "language_info": {
      "codemirror_mode": {
        "name": "ipython",
        "version": 3
      },
      "file_extension": ".py",
      "mimetype": "text/x-python",
      "name": "python",
      "nbconvert_exporter": "python",
      "pygments_lexer": "ipython3",
      "version": "3.10.12"
    }
  },
  "nbformat": 4,
  "nbformat_minor": 0
}